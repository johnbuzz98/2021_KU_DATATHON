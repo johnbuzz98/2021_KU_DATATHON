{
 "cells": [
  {
   "cell_type": "code",
   "execution_count": null,
   "metadata": {},
   "outputs": [],
   "source": [
    "from selenium.webdriver import Chrome, ChromeOptions\n",
    "from urllib.request import urlretrieve\n",
    "import pandas as pd\n",
    "import shutil\n",
    "import glob\n",
    "import os\n",
    "import re\n",
    "import time"
   ]
  },
  {
   "cell_type": "code",
   "execution_count": null,
   "metadata": {},
   "outputs": [],
   "source": [
    "sc_df=pd.DataFrame(index=range(0),columns=[\"작성자\",\"승인자\",\"게시기한\",\"승인일자\",\"재공지일자\",\"게시대상\",\"분류\",\"게시형태\",\"제목\",\"내용\"])"
   ]
  },
  {
   "cell_type": "code",
   "execution_count": null,
   "metadata": {},
   "outputs": [],
   "source": [
    "# 폴더 제작 함수\n",
    "def createFolder(directory):\n",
    "    try:\n",
    "        if not os.path.exists(directory):\n",
    "            os.makedirs(directory)\n",
    "    except OSError:\n",
    "        print ('Error: Creating directory. ' +  directory)\n",
    "\n",
    "\n",
    "'''출처: https://data-make.tistory.com/170 [Data Makes Our Future]'''"
   ]
  },
  {
   "cell_type": "code",
   "execution_count": null,
   "metadata": {},
   "outputs": [],
   "source": [
    "#장학금 공지의 테이블 명 긁어오는 함수\n",
    "def crawl_table(data):\n",
    "    body_num=((1,2),(1,4),(2,2),(2,4),(3,0),(4,2),(4,4),(4,6),(5,0)) #상단테이블 위치\n",
    "    content_list=[]\n",
    "    for _ in body_num:\n",
    "        if _[1]!=0:\n",
    "            body_path=('body > div > div.page > form > table > tbody > tr:nth-child({0}) > td:nth-child({1})'.format(str(_[0]), str(_[1])))\n",
    "        else:\n",
    "            body_path=('body > div > div.page > form > table > tbody > tr:nth-child({}) > td'.format(str(_[0])))\n",
    "        \n",
    "        content_list.append(driver.find_element_by_css_selector(body_path).text) #앞 테이블 내용\n",
    "    content_list.append(driver.find_element_by_css_selector('body > div > div.page > form > table > tbody > tr:nth-child(6) > td').text) #내용\n",
    "    data=data.append(pd.Series(content_list,index=data.columns),ignore_index=True)\n",
    "    return data  \n"
   ]
  },
  {
   "cell_type": "code",
   "execution_count": null,
   "metadata": {},
   "outputs": [],
   "source": [
    "#장학금 공지에 올라와 있는 이미지 저장하는 함수\n",
    "def imagecrawler():\n",
    "    n=1\n",
    "    newfoldername=driver.find_element_by_css_selector('body > div > div.page > form > table > tbody > tr:nth-child(5) > td').text\n",
    "    newfoldername=re.sub('/', '_', newfoldername)# / 를 _로 바꿔주는 정규식\n",
    "    newfoldername=re.sub('\\\"','',newfoldername) #\"를 없애주는 정규식\n",
    "    newpath=('./img/{}/'.format(newfoldername))#저장할 경로\n",
    "    newfile=('./img/{}/{}_{}.jpg'.format(newfoldername,newfoldername,n))#이미지 명까지 포함된 경로\n",
    "    createFolder(newpath)\n",
    "    for _ in driver.find_elements_by_xpath('/html/body/div/div[2]/form/table/tbody//img'):\n",
    "        urlretrieve(_.get_attribute('src'),newfile)\n",
    "        n+=1"
   ]
  },
  {
   "cell_type": "code",
   "execution_count": null,
   "metadata": {},
   "outputs": [],
   "source": [
    "#장학금 공지에 올라와 있는 첨부파일 저장하는 함수\n",
    "def filedownloader():    \n",
    "    newfoldername=driver.find_element_by_css_selector('body > div > div.page > form > table > tbody > tr:nth-child(5) > td').text\n",
    "    newfoldername=re.sub('/', '_', newfoldername)# / 를 _로 바꿔주는 정규식\n",
    "    newfoldername=re.sub('\\\"','',newfoldername) #\"를 없애주는 정규식\n",
    "    newfoldername=re.sub('>',' ',newfoldername)\n",
    "    newfoldername=re.sub('[\\(\\)]','',newfoldername)\n",
    "    newpath=('./첨부파일/{}'.format(newfoldername))#저장할 경로\n",
    "    if not os.path.isdir(newpath): #이미 다운로드 받았으면 다시 하지 않는다.\n",
    "        createFolder(newpath)\n",
    "        for _ in driver.find_elements_by_xpath('/html/body/div/div[2]/form/table/tbody/tr[7]/td/p/a'):      \n",
    "            _.click()\n",
    "            time.sleep(0.4) #0.4초 기다렸는데도 안받아지는 놈은 클릭해도 반응이 없는 놈\n",
    "        #time.sleep(5) #다운로드 될때까지 기다려주는 놈 첨할땐 주석 처리해도 됨   \n",
    "        source = r'C:\\Users\\woojo\\Downloads' #파일 다운로드된 폴더(초기에 비어있어야 함)\n",
    "        files = os.listdir(source)\n",
    "\n",
    "        while True: #다운로드 다 안됐는데 넘어가면 시스템 오류남\n",
    "            if len(glob.glob1(source,\"*.crdownload\"))!=0:\n",
    "                print('wait until download is finish')\n",
    "            else:\n",
    "                break        \n",
    "        if len(driver.find_elements_by_xpath('/html/body/div/div[2]/form/table/tbody/tr[7]/td/p/a')) != len(files):\n",
    "            num=len(driver.find_elements_by_xpath('/html/body/div/div[2]/form/table/tbody/tr[7]/td/p/a'))-len(files)\n",
    "            open(newpath+'/ 첨부파일 {}개부족' .format(num),'w') #누락된 파일이 있으면 첨부파일부족이 뜸\n",
    "        for file in files:\n",
    "            new_path = shutil.move(f\"{source}/{file}\", newpath)\n",
    "    "
   ]
  },
  {
   "cell_type": "code",
   "execution_count": null,
   "metadata": {},
   "outputs": [],
   "source": [
    "#메인 크롤러 함수\n",
    "def surfer(data):\n",
    "    page_num=1\n",
    "    while True:\n",
    "        if page_num==1:\n",
    "            driver.switch_to.frame(\"_component\")\n",
    "        tab_num=len(driver.find_elements_by_xpath('//*[@id=\"Search\"]/table/tbody/tr'))#테이블 아이탬 몇개있는지 확인\n",
    "        print(f\"페이지 번호 : {page_num}, 탭 수: {tab_num}\")\n",
    "        for i in range(1,tab_num+1):\n",
    "            if i!=1:#볼드체 제목 클릭\n",
    "                driver.switch_to.frame(\"_component\")\n",
    "            path=('//*[@id=\"Search\"]/table/tbody/tr[%d]/td[3]/b/a' %i)\n",
    "            try: #일반 제목 클릭\n",
    "                element=driver.find_element_by_xpath(path)\n",
    "            except:\n",
    "                path=('//*[@id=\"Search\"]/table/tbody/tr[%d]/td[3]/a' %i)\n",
    "                element=driver.find_element_by_xpath(path)\n",
    "\n",
    "            element.click()#여기가 클릭하는 부분 (이밑으로 크롤러 넣으면 됨)\n",
    "            data=crawl_table(data)#테이블 긁어오는 함수 (이밑으로 사진 저장, 파일 저장 함수 넣으면 됨)\n",
    "            if driver.find_elements_by_xpath('/html/body/div/div[2]/form/table/tbody//img'): #이미지가 있으면\n",
    "                imagecrawler()#이미지 긁어오는 함수\n",
    "            if driver.find_elements_by_xpath('/html/body/div/div[2]/form/table/tbody/tr[7]/td/p/a'): #첨부파일이 있으면\n",
    "                filedownloader()#첨부파일 다운로드하는 함수\n",
    "            print(path) #어디쯤인가 확인.\n",
    "            time.sleep(0.1)\n",
    "            driver.back()\n",
    "        driver.switch_to.frame(\"_component\")\n",
    "        btn_next=driver.find_element_by_css_selector('#Search > div.paging > div > a.btn.next')\n",
    "        if btn_next.get_attribute('href')[-4:]=='prev':#맨마지막 페이지 도달 하면 break\n",
    "            print(\"끝도달\")\n",
    "            break\n",
    "        btn_next.click()\n",
    "        page_num+=1\n",
    "        time.sleep(0.1)\n",
    "    return data"
   ]
  },
  {
   "cell_type": "code",
   "execution_count": null,
   "metadata": {},
   "outputs": [],
   "source": [
    "driver = Chrome()"
   ]
  },
  {
   "cell_type": "code",
   "execution_count": null,
   "metadata": {},
   "outputs": [],
   "source": [
    "driver.get(\"https://portal.korea.ac.kr/front/Intro.kpd\")"
   ]
  },
  {
   "cell_type": "markdown",
   "metadata": {},
   "source": [
    "로그인 과정"
   ]
  },
  {
   "cell_type": "code",
   "execution_count": null,
   "metadata": {},
   "outputs": [],
   "source": [
    "with open('idpw.txt','r') as f: #idpw는 따로 저장\n",
    "    data=f.read()\n",
    "id_,pw_=re.split(r'(\\n)',data)[0],re.split(r'(\\n)',data)[2]"
   ]
  },
  {
   "cell_type": "code",
   "execution_count": null,
   "metadata": {},
   "outputs": [],
   "source": [
    "#ID 입력\n",
    "driver.find_element_by_name('id').clear()\n",
    "driver.find_element_by_name('id').send_keys(id_)\n",
    "#password 입력\n",
    "driver.find_element_by_name('pw').clear()\n",
    "driver.find_element_by_name('pw').send_keys(pw_)\n",
    "#로그인\n",
    "time.sleep(2)\n",
    "driver.find_element_by_name('loginsubmit').click()"
   ]
  },
  {
   "cell_type": "code",
   "execution_count": null,
   "metadata": {},
   "outputs": [],
   "source": [
    "#포탈 첫화면에서 등록/장학 클릭\n",
    "time.sleep(2)\n",
    "driver.find_element_by_xpath('//*[@id=\"header\"]/div[2]/div/div/ul/li[2]/a').click()"
   ]
  },
  {
   "cell_type": "markdown",
   "metadata": {},
   "source": [
    "장학금 공지에서 크롤링"
   ]
  },
  {
   "cell_type": "code",
   "execution_count": null,
   "metadata": {
    "scrolled": true
   },
   "outputs": [],
   "source": [
    "sc_df=surfer(sc_df)"
   ]
  },
  {
   "cell_type": "markdown",
   "metadata": {},
   "source": [
    "지난 장학금 공지에서 크롤링"
   ]
  },
  {
   "cell_type": "code",
   "execution_count": null,
   "metadata": {},
   "outputs": [],
   "source": [
    "driver.back()"
   ]
  },
  {
   "cell_type": "code",
   "execution_count": null,
   "metadata": {},
   "outputs": [],
   "source": [
    "driver.find_element_by_xpath('//*[@id=\"m102\"]/a').click() #장학 클릭"
   ]
  },
  {
   "cell_type": "code",
   "execution_count": null,
   "metadata": {},
   "outputs": [],
   "source": [
    "driver.find_element_by_xpath('//*[@id=\"sm110\"]/a').click() #지난 장학금 공지 클릭"
   ]
  },
  {
   "cell_type": "code",
   "execution_count": null,
   "metadata": {},
   "outputs": [],
   "source": [
    "year=list(range(2010,2022))#2010년 부터 2021년까지 있음"
   ]
  },
  {
   "cell_type": "code",
   "execution_count": null,
   "metadata": {},
   "outputs": [],
   "source": [
    "for k in year:\n",
    "    driver.switch_to.frame(\"_component\")    \n",
    "    driver.find_element_by_xpath('//*[@id=\"Search\"]/div[2]/div[1]/div/input[1]').clear()#년도창비우기\n",
    "    driver.find_element_by_xpath('//*[@id=\"Search\"]/div[2]/div[1]/div/input[1]').send_keys(k)#년도 입력\n",
    "    driver.find_element_by_xpath('//*[@id=\"Search\"]/div[2]/div[1]/span[2]/input').click()#검색 클릭\n",
    "    driver.find_element_by_css_selector('#Search > div.paging > div > a.btn.first').click()#1페이지로 초기화\n",
    "    driver.find_element_by_xpath('//*[@id=\"Search\"]/table/tbody/tr[1]/td[3]/a').click()#아무페이지나 먼저 클릭\n",
    "    driver.back()\n",
    "    sc_df=surfer(sc_df)\n",
    "    driver.back()\n",
    "    sc_df"
   ]
  },
  {
   "cell_type": "markdown",
   "metadata": {},
   "source": [
    "데이터 처리"
   ]
  },
  {
   "cell_type": "code",
   "execution_count": null,
   "metadata": {},
   "outputs": [],
   "source": [
    "#제목 ,폴더나 파일명에 사용될 수 없는 기호들 삭제\n",
    "for i in range(len(sc_df)):\n",
    "    temp=sc_df['제목'][i]\n",
    "    temp=re.sub(r'/','_',temp)\n",
    "    temp=re.sub('\\\"','',temp)\n",
    "    temp=re.sub('>',' ',temp)\n",
    "    temp=re.sub(':',' ',temp)\n",
    "    temp=re.sub('[\\(\\)]','',temp)\n",
    "    sc_df.iloc[i]['제목']=temp"
   ]
  },
  {
   "cell_type": "code",
   "execution_count": null,
   "metadata": {},
   "outputs": [],
   "source": [
    "#중복제거\n",
    "sc_df.drop_duplicates(inplace=True)\n",
    "sc_df.reset_index(inplace=True)"
   ]
  },
  {
   "cell_type": "code",
   "execution_count": null,
   "metadata": {},
   "outputs": [],
   "source": [
    "sc_df.to_excel(\"장학금데이터.xlsx\")"
   ]
  },
  {
   "cell_type": "code",
   "execution_count": null,
   "metadata": {},
   "outputs": [],
   "source": [
    "#승인일자 기준으로 정렬하는건데 판다스로 정리하기 귀찮아서 엑셀로 정렬 후 다시 불러오기\n",
    "final_sc=pd.read_excel(\"장학금데이터.xlsx\")"
   ]
  },
  {
   "cell_type": "code",
   "execution_count": null,
   "metadata": {},
   "outputs": [],
   "source": [
    "#내용도 TXT 파일로 보면 좋을 것 같아 추출\n",
    "for i in range (len(final_sc)):\n",
    "    newfoldername=(final_sc.iloc[i]['제목'])\n",
    "    newfoldername=re.sub(':',' ',newfoldername)\n",
    "    newpath=('./txt/{}/'.format(newfoldername))#저장할 경로\n",
    "    if not os.path.isdir(newpath):\n",
    "        createFolder(newpath)\n",
    "        with open('{}{}.txt'.format(newpath,newfoldername), 'w', encoding='UTF8')as f:\n",
    "            f.write(str(final_sc.iloc[i]['내용']))"
   ]
  },
  {
   "cell_type": "markdown",
   "metadata": {},
   "source": [
    "통합폴더에 다 저장하기"
   ]
  },
  {
   "cell_type": "code",
   "execution_count": null,
   "metadata": {},
   "outputs": [],
   "source": [
    "#넘버링이 되어있는 통합폴더명 제작\n",
    "final_sc['제목2']=\"\"\n",
    "for i in range (len(final_sc)):\n",
    "    final_sc['제목'][i]=re.sub(':',' ',final_sc['제목'][i])\n",
    "    final_sc['제목2'][i]=f'{str(i).zfill(4)}_'+final_sc.iloc[i]['제목']"
   ]
  },
  {
   "cell_type": "code",
   "execution_count": null,
   "metadata": {},
   "outputs": [],
   "source": [
    "#통합폴더에 다 옮겨서 저장하기\n",
    "for i in range (len(final_sc)):\n",
    "    totalpath=('./total/{}/'.format(final_sc.iloc[i]['제목2']))\n",
    "    imagepath=('./img/{}/'.format(final_sc.iloc[i]['제목']))\n",
    "    txtpath=('./txt/{}/'.format(final_sc.iloc[i]['제목']))\n",
    "    filepath=('./첨부파일/{}/'.format(final_sc.iloc[i]['제목']))\n",
    "    createFolder(totalpath)\n",
    "    \n",
    "    if os.path.isdir(filepath):\n",
    "        files = os.listdir(filepath)\n",
    "        for file in files:\n",
    "            shutil.copy(f\"{filepath}/{file}\", totalpath)\n",
    "    if os.path.isdir(imagepath):\n",
    "        files = os.listdir(imagepath)\n",
    "        for file in files:\n",
    "            shutil.copy(f\"{imagepath}/{file}\", totalpath)\n",
    "    if os.path.isdir(txtpath):\n",
    "        files = os.listdir(txtpath)\n",
    "        for file in files:\n",
    "            shutil.copy(f\"{txtpath}/{file}\", totalpath)\n",
    "    "
   ]
  }
 ],
 "metadata": {
  "kernelspec": {
   "display_name": "Python 3",
   "language": "python",
   "name": "python3"
  },
  "language_info": {
   "codemirror_mode": {
    "name": "ipython",
    "version": 3
   },
   "file_extension": ".py",
   "mimetype": "text/x-python",
   "name": "python",
   "nbconvert_exporter": "python",
   "pygments_lexer": "ipython3",
   "version": "3.8.5"
  }
 },
 "nbformat": 4,
 "nbformat_minor": 4
}
