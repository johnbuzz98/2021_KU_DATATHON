{
 "cells": [
  {
   "cell_type": "code",
   "execution_count": 13,
   "metadata": {},
   "outputs": [],
   "source": [
    "from selenium.webdriver import Chrome, ChromeOptions\n",
    "from selenium.common.exceptions import NoSuchElementException, TimeoutException\n",
    "from selenium.webdriver.common.by import By\n",
    "from selenium.webdriver.support import expected_conditions as EC\n",
    "from selenium.webdriver.support.ui import WebDriverWait as wait\n",
    "from bs4 import BeautifulSoup\n",
    "import pandas as pd\n",
    "import re\n",
    "import time"
   ]
  },
  {
   "cell_type": "code",
   "execution_count": 2,
   "metadata": {},
   "outputs": [],
   "source": [
    "driver = Chrome()"
   ]
  },
  {
   "cell_type": "code",
   "execution_count": 3,
   "metadata": {},
   "outputs": [],
   "source": [
    "driver.get(\"https://portal.korea.ac.kr/front/Intro.kpd\")"
   ]
  },
  {
   "cell_type": "raw",
   "metadata": {},
   "source": [
    "로그인 과정"
   ]
  },
  {
   "cell_type": "code",
   "execution_count": 4,
   "metadata": {},
   "outputs": [],
   "source": [
    "with open('idpw.txt','r') as f:\n",
    "    data=f.read()"
   ]
  },
  {
   "cell_type": "code",
   "execution_count": 5,
   "metadata": {},
   "outputs": [],
   "source": [
    "id_,pw_=re.split(r'(\\n)',data)[0],re.split(r'(\\n)',data)[2]"
   ]
  },
  {
   "cell_type": "code",
   "execution_count": 6,
   "metadata": {},
   "outputs": [],
   "source": [
    "driver.find_element_by_name('id').clear()\n",
    "driver.find_element_by_name('id').send_keys(id_)"
   ]
  },
  {
   "cell_type": "code",
   "execution_count": 7,
   "metadata": {},
   "outputs": [],
   "source": [
    "driver.find_element_by_name('pw').clear()\n",
    "driver.find_element_by_name('pw').send_keys(pw_)"
   ]
  },
  {
   "cell_type": "code",
   "execution_count": 8,
   "metadata": {},
   "outputs": [],
   "source": [
    "time.sleep(1)\n",
    "driver.find_element_by_name('loginsubmit').click()"
   ]
  },
  {
   "cell_type": "code",
   "execution_count": 10,
   "metadata": {},
   "outputs": [],
   "source": [
    "#포탈 첫화면에서 등록/장학 클릭\n",
    "time.sleep(2)\n",
    "driver.find_element_by_xpath('//*[@id=\"header\"]/div[2]/div/div/ul/li[2]/a').click()"
   ]
  },
  {
   "cell_type": "code",
   "execution_count": 11,
   "metadata": {},
   "outputs": [],
   "source": [
    "def surfer():\n",
    "    page_num=1\n",
    "    while True:\n",
    "        if page_num==1:\n",
    "            driver.switch_to.frame(\"_component\")\n",
    "        tab_num=len(driver.find_elements_by_xpath('//*[@id=\"Search\"]/table/tbody/tr'))#테이블 아이탬 몇개있는지 확인\n",
    "        print(f\"페이지 번호 : {page_num}, 탭 수: {tab_num}\")\n",
    "        for i in range(1,tab_num+1):\n",
    "            if i!=1:#볼드체 제목 클릭\n",
    "                driver.switch_to.frame(\"_component\")\n",
    "            path=('//*[@id=\"Search\"]/table/tbody/tr[%d]/td[3]/b/a' %i)\n",
    "            try: #일반 제목 클릭\n",
    "                element=driver.find_element_by_xpath(path)\n",
    "            except:\n",
    "                path=('//*[@id=\"Search\"]/table/tbody/tr[%d]/td[3]/a' %i)\n",
    "                element=driver.find_element_by_xpath(path)\n",
    "\n",
    "            element.click()#여기가 클릭하는 부분 (이밑으로 크롤러 넣으면 됨)\n",
    "            print(path)\n",
    "            time.sleep(1)\n",
    "            driver.back()\n",
    "        driver.switch_to.frame(\"_component\")\n",
    "        btn_next=driver.find_element_by_css_selector('#Search > div.paging > div > a.btn.next')\n",
    "        #장학금 공지는 div[2]/div/a[5], 지난 장학금 공지는 /div[3]/div/a[7]\n",
    "        if btn_next.get_attribute('href')[-4:]=='prev':#맨마지막 페이지 도달 하면 break\n",
    "            print(\"끝도달\")\n",
    "            break\n",
    "        btn_next.click()\n",
    "        page_num+=1\n",
    "        time.sleep(1)"
   ]
  },
  {
   "cell_type": "code",
   "execution_count": 12,
   "metadata": {
    "collapsed": true
   },
   "outputs": [
    {
     "name": "stdout",
     "output_type": "stream",
     "text": [
      "페이지 번호 : 1, 탭 수: 10\n",
      "//*[@id=\"Search\"]/table/tbody/tr[1]/td[3]/b/a\n",
      "//*[@id=\"Search\"]/table/tbody/tr[2]/td[3]/b/a\n",
      "//*[@id=\"Search\"]/table/tbody/tr[3]/td[3]/b/a\n",
      "//*[@id=\"Search\"]/table/tbody/tr[4]/td[3]/b/a\n",
      "//*[@id=\"Search\"]/table/tbody/tr[5]/td[3]/a\n",
      "//*[@id=\"Search\"]/table/tbody/tr[6]/td[3]/a\n",
      "//*[@id=\"Search\"]/table/tbody/tr[7]/td[3]/a\n",
      "//*[@id=\"Search\"]/table/tbody/tr[8]/td[3]/a\n",
      "//*[@id=\"Search\"]/table/tbody/tr[9]/td[3]/a\n",
      "//*[@id=\"Search\"]/table/tbody/tr[10]/td[3]/a\n",
      "페이지 번호 : 2, 탭 수: 10\n",
      "//*[@id=\"Search\"]/table/tbody/tr[1]/td[3]/a\n",
      "//*[@id=\"Search\"]/table/tbody/tr[2]/td[3]/a\n",
      "//*[@id=\"Search\"]/table/tbody/tr[3]/td[3]/a\n",
      "//*[@id=\"Search\"]/table/tbody/tr[4]/td[3]/a\n",
      "//*[@id=\"Search\"]/table/tbody/tr[5]/td[3]/a\n",
      "//*[@id=\"Search\"]/table/tbody/tr[6]/td[3]/a\n",
      "//*[@id=\"Search\"]/table/tbody/tr[7]/td[3]/a\n",
      "//*[@id=\"Search\"]/table/tbody/tr[8]/td[3]/a\n",
      "//*[@id=\"Search\"]/table/tbody/tr[9]/td[3]/a\n",
      "//*[@id=\"Search\"]/table/tbody/tr[10]/td[3]/a\n",
      "페이지 번호 : 3, 탭 수: 8\n",
      "//*[@id=\"Search\"]/table/tbody/tr[1]/td[3]/a\n",
      "//*[@id=\"Search\"]/table/tbody/tr[2]/td[3]/a\n",
      "//*[@id=\"Search\"]/table/tbody/tr[3]/td[3]/a\n",
      "//*[@id=\"Search\"]/table/tbody/tr[4]/td[3]/a\n",
      "//*[@id=\"Search\"]/table/tbody/tr[5]/td[3]/a\n",
      "//*[@id=\"Search\"]/table/tbody/tr[6]/td[3]/a\n",
      "//*[@id=\"Search\"]/table/tbody/tr[7]/td[3]/a\n",
      "//*[@id=\"Search\"]/table/tbody/tr[8]/td[3]/a\n",
      "끝도달\n"
     ]
    }
   ],
   "source": [
    "#장학금 공지에서 찾기\n",
    "surfer()"
   ]
  },
  {
   "cell_type": "code",
   "execution_count": 91,
   "metadata": {},
   "outputs": [],
   "source": [
    "driver.find_element_by_xpath('//*[@id=\"m102\"]/a').click() #장학 클릭"
   ]
  },
  {
   "cell_type": "code",
   "execution_count": 92,
   "metadata": {},
   "outputs": [],
   "source": [
    "driver.find_element_by_xpath('//*[@id=\"sm110\"]/a').click() #지난 장학금 공지 클릭"
   ]
  },
  {
   "cell_type": "code",
   "execution_count": 93,
   "metadata": {},
   "outputs": [],
   "source": [
    "driver.switch_to.frame(\"_component\")"
   ]
  },
  {
   "cell_type": "code",
   "execution_count": 94,
   "metadata": {},
   "outputs": [],
   "source": [
    "year=list(range(2010,2022))"
   ]
  },
  {
   "cell_type": "code",
   "execution_count": 95,
   "metadata": {},
   "outputs": [],
   "source": [
    "driver.find_element_by_xpath('//*[@id=\"Search\"]/div[2]/div[1]/div/input[1]').clear()#년도창비우기\n",
    "driver.find_element_by_xpath('//*[@id=\"Search\"]/div[2]/div[1]/div/input[1]').send_keys(year[3])#년도 입력\n",
    "driver.find_element_by_xpath('//*[@id=\"Search\"]/div[2]/div[1]/span[2]/input').click()#검색 클릭\n",
    "driver.find_element_by_css_selector('#Search > div.paging > div > a.btn.first').click()#1페이지로 초기화"
   ]
  },
  {
   "cell_type": "code",
   "execution_count": 96,
   "metadata": {},
   "outputs": [],
   "source": [
    "driver.back()"
   ]
  },
  {
   "cell_type": "code",
   "execution_count": 97,
   "metadata": {},
   "outputs": [
    {
     "name": "stdout",
     "output_type": "stream",
     "text": [
      "페이지 번호 : 1, 탭 수: 10\n",
      "//*[@id=\"Search\"]/table/tbody/tr[1]/td[3]/a\n",
      "//*[@id=\"Search\"]/table/tbody/tr[2]/td[3]/a\n",
      "//*[@id=\"Search\"]/table/tbody/tr[3]/td[3]/a\n",
      "//*[@id=\"Search\"]/table/tbody/tr[4]/td[3]/a\n",
      "//*[@id=\"Search\"]/table/tbody/tr[5]/td[3]/a\n",
      "//*[@id=\"Search\"]/table/tbody/tr[6]/td[3]/a\n",
      "//*[@id=\"Search\"]/table/tbody/tr[7]/td[3]/a\n",
      "//*[@id=\"Search\"]/table/tbody/tr[8]/td[3]/a\n",
      "//*[@id=\"Search\"]/table/tbody/tr[9]/td[3]/a\n",
      "//*[@id=\"Search\"]/table/tbody/tr[10]/td[3]/a\n",
      "페이지 번호 : 2, 탭 수: 10\n",
      "//*[@id=\"Search\"]/table/tbody/tr[1]/td[3]/a\n",
      "//*[@id=\"Search\"]/table/tbody/tr[2]/td[3]/a\n",
      "//*[@id=\"Search\"]/table/tbody/tr[3]/td[3]/a\n",
      "//*[@id=\"Search\"]/table/tbody/tr[4]/td[3]/a\n",
      "//*[@id=\"Search\"]/table/tbody/tr[5]/td[3]/a\n",
      "//*[@id=\"Search\"]/table/tbody/tr[6]/td[3]/a\n",
      "//*[@id=\"Search\"]/table/tbody/tr[7]/td[3]/a\n",
      "//*[@id=\"Search\"]/table/tbody/tr[8]/td[3]/a\n",
      "//*[@id=\"Search\"]/table/tbody/tr[9]/td[3]/a\n",
      "//*[@id=\"Search\"]/table/tbody/tr[10]/td[3]/a\n",
      "페이지 번호 : 3, 탭 수: 10\n",
      "//*[@id=\"Search\"]/table/tbody/tr[1]/td[3]/a\n",
      "//*[@id=\"Search\"]/table/tbody/tr[2]/td[3]/a\n",
      "//*[@id=\"Search\"]/table/tbody/tr[3]/td[3]/a\n",
      "//*[@id=\"Search\"]/table/tbody/tr[4]/td[3]/a\n",
      "//*[@id=\"Search\"]/table/tbody/tr[5]/td[3]/a\n",
      "//*[@id=\"Search\"]/table/tbody/tr[6]/td[3]/a\n",
      "//*[@id=\"Search\"]/table/tbody/tr[7]/td[3]/a\n",
      "//*[@id=\"Search\"]/table/tbody/tr[8]/td[3]/a\n",
      "//*[@id=\"Search\"]/table/tbody/tr[9]/td[3]/a\n",
      "//*[@id=\"Search\"]/table/tbody/tr[10]/td[3]/a\n",
      "페이지 번호 : 4, 탭 수: 10\n",
      "//*[@id=\"Search\"]/table/tbody/tr[1]/td[3]/a\n",
      "//*[@id=\"Search\"]/table/tbody/tr[2]/td[3]/a\n",
      "//*[@id=\"Search\"]/table/tbody/tr[3]/td[3]/a\n",
      "//*[@id=\"Search\"]/table/tbody/tr[4]/td[3]/a\n",
      "//*[@id=\"Search\"]/table/tbody/tr[5]/td[3]/a\n",
      "//*[@id=\"Search\"]/table/tbody/tr[6]/td[3]/a\n",
      "//*[@id=\"Search\"]/table/tbody/tr[7]/td[3]/a\n",
      "//*[@id=\"Search\"]/table/tbody/tr[8]/td[3]/a\n",
      "//*[@id=\"Search\"]/table/tbody/tr[9]/td[3]/a\n",
      "//*[@id=\"Search\"]/table/tbody/tr[10]/td[3]/a\n",
      "페이지 번호 : 5, 탭 수: 10\n",
      "//*[@id=\"Search\"]/table/tbody/tr[1]/td[3]/a\n",
      "//*[@id=\"Search\"]/table/tbody/tr[2]/td[3]/a\n",
      "//*[@id=\"Search\"]/table/tbody/tr[3]/td[3]/a\n",
      "//*[@id=\"Search\"]/table/tbody/tr[4]/td[3]/a\n",
      "//*[@id=\"Search\"]/table/tbody/tr[5]/td[3]/a\n",
      "//*[@id=\"Search\"]/table/tbody/tr[6]/td[3]/a\n",
      "//*[@id=\"Search\"]/table/tbody/tr[7]/td[3]/a\n",
      "//*[@id=\"Search\"]/table/tbody/tr[8]/td[3]/a\n",
      "//*[@id=\"Search\"]/table/tbody/tr[9]/td[3]/a\n",
      "//*[@id=\"Search\"]/table/tbody/tr[10]/td[3]/a\n",
      "페이지 번호 : 6, 탭 수: 10\n",
      "//*[@id=\"Search\"]/table/tbody/tr[1]/td[3]/a\n",
      "//*[@id=\"Search\"]/table/tbody/tr[2]/td[3]/a\n",
      "//*[@id=\"Search\"]/table/tbody/tr[3]/td[3]/a\n",
      "//*[@id=\"Search\"]/table/tbody/tr[4]/td[3]/a\n",
      "//*[@id=\"Search\"]/table/tbody/tr[5]/td[3]/a\n",
      "//*[@id=\"Search\"]/table/tbody/tr[6]/td[3]/a\n",
      "//*[@id=\"Search\"]/table/tbody/tr[7]/td[3]/a\n",
      "//*[@id=\"Search\"]/table/tbody/tr[8]/td[3]/a\n",
      "//*[@id=\"Search\"]/table/tbody/tr[9]/td[3]/a\n",
      "//*[@id=\"Search\"]/table/tbody/tr[10]/td[3]/a\n",
      "페이지 번호 : 7, 탭 수: 10\n",
      "//*[@id=\"Search\"]/table/tbody/tr[1]/td[3]/a\n",
      "//*[@id=\"Search\"]/table/tbody/tr[2]/td[3]/a\n",
      "//*[@id=\"Search\"]/table/tbody/tr[3]/td[3]/a\n",
      "//*[@id=\"Search\"]/table/tbody/tr[4]/td[3]/a\n",
      "//*[@id=\"Search\"]/table/tbody/tr[5]/td[3]/a\n",
      "//*[@id=\"Search\"]/table/tbody/tr[6]/td[3]/a\n",
      "//*[@id=\"Search\"]/table/tbody/tr[7]/td[3]/a\n",
      "//*[@id=\"Search\"]/table/tbody/tr[8]/td[3]/a\n",
      "//*[@id=\"Search\"]/table/tbody/tr[9]/td[3]/a\n",
      "//*[@id=\"Search\"]/table/tbody/tr[10]/td[3]/a\n",
      "페이지 번호 : 8, 탭 수: 10\n",
      "//*[@id=\"Search\"]/table/tbody/tr[1]/td[3]/a\n",
      "//*[@id=\"Search\"]/table/tbody/tr[2]/td[3]/a\n",
      "//*[@id=\"Search\"]/table/tbody/tr[3]/td[3]/a\n",
      "//*[@id=\"Search\"]/table/tbody/tr[4]/td[3]/a\n",
      "//*[@id=\"Search\"]/table/tbody/tr[5]/td[3]/a\n",
      "//*[@id=\"Search\"]/table/tbody/tr[6]/td[3]/a\n",
      "//*[@id=\"Search\"]/table/tbody/tr[7]/td[3]/a\n",
      "//*[@id=\"Search\"]/table/tbody/tr[8]/td[3]/a\n",
      "//*[@id=\"Search\"]/table/tbody/tr[9]/td[3]/a\n",
      "//*[@id=\"Search\"]/table/tbody/tr[10]/td[3]/a\n",
      "페이지 번호 : 9, 탭 수: 10\n",
      "//*[@id=\"Search\"]/table/tbody/tr[1]/td[3]/a\n",
      "//*[@id=\"Search\"]/table/tbody/tr[2]/td[3]/a\n",
      "//*[@id=\"Search\"]/table/tbody/tr[3]/td[3]/a\n",
      "//*[@id=\"Search\"]/table/tbody/tr[4]/td[3]/a\n",
      "//*[@id=\"Search\"]/table/tbody/tr[5]/td[3]/a\n",
      "//*[@id=\"Search\"]/table/tbody/tr[6]/td[3]/a\n",
      "//*[@id=\"Search\"]/table/tbody/tr[7]/td[3]/a\n",
      "//*[@id=\"Search\"]/table/tbody/tr[8]/td[3]/a\n",
      "//*[@id=\"Search\"]/table/tbody/tr[9]/td[3]/a\n",
      "//*[@id=\"Search\"]/table/tbody/tr[10]/td[3]/a\n",
      "페이지 번호 : 10, 탭 수: 10\n",
      "//*[@id=\"Search\"]/table/tbody/tr[1]/td[3]/a\n",
      "//*[@id=\"Search\"]/table/tbody/tr[2]/td[3]/a\n",
      "//*[@id=\"Search\"]/table/tbody/tr[3]/td[3]/a\n",
      "//*[@id=\"Search\"]/table/tbody/tr[4]/td[3]/a\n",
      "//*[@id=\"Search\"]/table/tbody/tr[5]/td[3]/a\n",
      "//*[@id=\"Search\"]/table/tbody/tr[6]/td[3]/a\n",
      "//*[@id=\"Search\"]/table/tbody/tr[7]/td[3]/a\n",
      "//*[@id=\"Search\"]/table/tbody/tr[8]/td[3]/a\n",
      "//*[@id=\"Search\"]/table/tbody/tr[9]/td[3]/a\n",
      "//*[@id=\"Search\"]/table/tbody/tr[10]/td[3]/a\n",
      "페이지 번호 : 11, 탭 수: 10\n",
      "//*[@id=\"Search\"]/table/tbody/tr[1]/td[3]/a\n",
      "//*[@id=\"Search\"]/table/tbody/tr[2]/td[3]/a\n",
      "//*[@id=\"Search\"]/table/tbody/tr[3]/td[3]/a\n",
      "//*[@id=\"Search\"]/table/tbody/tr[4]/td[3]/a\n",
      "//*[@id=\"Search\"]/table/tbody/tr[5]/td[3]/a\n",
      "//*[@id=\"Search\"]/table/tbody/tr[6]/td[3]/a\n",
      "//*[@id=\"Search\"]/table/tbody/tr[7]/td[3]/a\n",
      "//*[@id=\"Search\"]/table/tbody/tr[8]/td[3]/a\n",
      "//*[@id=\"Search\"]/table/tbody/tr[9]/td[3]/a\n",
      "//*[@id=\"Search\"]/table/tbody/tr[10]/td[3]/a\n",
      "페이지 번호 : 12, 탭 수: 10\n",
      "//*[@id=\"Search\"]/table/tbody/tr[1]/td[3]/a\n",
      "//*[@id=\"Search\"]/table/tbody/tr[2]/td[3]/a\n",
      "//*[@id=\"Search\"]/table/tbody/tr[3]/td[3]/a\n",
      "//*[@id=\"Search\"]/table/tbody/tr[4]/td[3]/a\n",
      "//*[@id=\"Search\"]/table/tbody/tr[5]/td[3]/a\n",
      "//*[@id=\"Search\"]/table/tbody/tr[6]/td[3]/a\n",
      "//*[@id=\"Search\"]/table/tbody/tr[7]/td[3]/a\n",
      "//*[@id=\"Search\"]/table/tbody/tr[8]/td[3]/a\n",
      "//*[@id=\"Search\"]/table/tbody/tr[9]/td[3]/a\n",
      "//*[@id=\"Search\"]/table/tbody/tr[10]/td[3]/a\n",
      "페이지 번호 : 13, 탭 수: 10\n",
      "//*[@id=\"Search\"]/table/tbody/tr[1]/td[3]/a\n",
      "//*[@id=\"Search\"]/table/tbody/tr[2]/td[3]/a\n",
      "//*[@id=\"Search\"]/table/tbody/tr[3]/td[3]/a\n",
      "//*[@id=\"Search\"]/table/tbody/tr[4]/td[3]/a\n",
      "//*[@id=\"Search\"]/table/tbody/tr[5]/td[3]/a\n",
      "//*[@id=\"Search\"]/table/tbody/tr[6]/td[3]/a\n",
      "//*[@id=\"Search\"]/table/tbody/tr[7]/td[3]/a\n",
      "//*[@id=\"Search\"]/table/tbody/tr[8]/td[3]/a\n",
      "//*[@id=\"Search\"]/table/tbody/tr[9]/td[3]/a\n",
      "//*[@id=\"Search\"]/table/tbody/tr[10]/td[3]/a\n",
      "페이지 번호 : 14, 탭 수: 10\n",
      "//*[@id=\"Search\"]/table/tbody/tr[1]/td[3]/a\n",
      "//*[@id=\"Search\"]/table/tbody/tr[2]/td[3]/a\n",
      "//*[@id=\"Search\"]/table/tbody/tr[3]/td[3]/a\n",
      "//*[@id=\"Search\"]/table/tbody/tr[4]/td[3]/a\n",
      "//*[@id=\"Search\"]/table/tbody/tr[5]/td[3]/a\n",
      "//*[@id=\"Search\"]/table/tbody/tr[6]/td[3]/a\n",
      "//*[@id=\"Search\"]/table/tbody/tr[7]/td[3]/a\n",
      "//*[@id=\"Search\"]/table/tbody/tr[8]/td[3]/a\n",
      "//*[@id=\"Search\"]/table/tbody/tr[9]/td[3]/a\n",
      "//*[@id=\"Search\"]/table/tbody/tr[10]/td[3]/a\n",
      "페이지 번호 : 15, 탭 수: 10\n",
      "//*[@id=\"Search\"]/table/tbody/tr[1]/td[3]/a\n",
      "//*[@id=\"Search\"]/table/tbody/tr[2]/td[3]/a\n",
      "//*[@id=\"Search\"]/table/tbody/tr[3]/td[3]/a\n",
      "//*[@id=\"Search\"]/table/tbody/tr[4]/td[3]/a\n",
      "//*[@id=\"Search\"]/table/tbody/tr[5]/td[3]/a\n",
      "//*[@id=\"Search\"]/table/tbody/tr[6]/td[3]/a\n",
      "//*[@id=\"Search\"]/table/tbody/tr[7]/td[3]/a\n",
      "//*[@id=\"Search\"]/table/tbody/tr[8]/td[3]/a\n",
      "//*[@id=\"Search\"]/table/tbody/tr[9]/td[3]/a\n",
      "//*[@id=\"Search\"]/table/tbody/tr[10]/td[3]/a\n",
      "페이지 번호 : 16, 탭 수: 10\n",
      "//*[@id=\"Search\"]/table/tbody/tr[1]/td[3]/a\n",
      "//*[@id=\"Search\"]/table/tbody/tr[2]/td[3]/a\n",
      "//*[@id=\"Search\"]/table/tbody/tr[3]/td[3]/a\n",
      "//*[@id=\"Search\"]/table/tbody/tr[4]/td[3]/a\n",
      "//*[@id=\"Search\"]/table/tbody/tr[5]/td[3]/a\n",
      "//*[@id=\"Search\"]/table/tbody/tr[6]/td[3]/a\n",
      "//*[@id=\"Search\"]/table/tbody/tr[7]/td[3]/a\n",
      "//*[@id=\"Search\"]/table/tbody/tr[8]/td[3]/a\n",
      "//*[@id=\"Search\"]/table/tbody/tr[9]/td[3]/a\n",
      "//*[@id=\"Search\"]/table/tbody/tr[10]/td[3]/a\n",
      "끝도달\n"
     ]
    }
   ],
   "source": [
    "surfer()"
   ]
  },
  {
   "cell_type": "code",
   "execution_count": 20,
   "metadata": {},
   "outputs": [],
   "source": [
    "scholarship_data=pd.DataFrame(index=range(0),columns=[\"작성자\",\"승인자\",\"게시기한\",\"승인일자\",\"재공지일자\",\"게시대상\",\"분류\",\"게시형태\",\"제목\",\"내용\",\"이미지\",\"첨부파일\"])"
   ]
  },
  {
   "cell_type": "code",
   "execution_count": 51,
   "metadata": {},
   "outputs": [
    {
     "data": {
      "text/html": [
       "<div>\n",
       "<style scoped>\n",
       "    .dataframe tbody tr th:only-of-type {\n",
       "        vertical-align: middle;\n",
       "    }\n",
       "\n",
       "    .dataframe tbody tr th {\n",
       "        vertical-align: top;\n",
       "    }\n",
       "\n",
       "    .dataframe thead th {\n",
       "        text-align: right;\n",
       "    }\n",
       "</style>\n",
       "<table border=\"1\" class=\"dataframe\">\n",
       "  <thead>\n",
       "    <tr style=\"text-align: right;\">\n",
       "      <th></th>\n",
       "      <th>작성자</th>\n",
       "      <th>승인자</th>\n",
       "      <th>게시기한</th>\n",
       "      <th>승인일자</th>\n",
       "      <th>재공지일자</th>\n",
       "      <th>게시대상</th>\n",
       "      <th>분류</th>\n",
       "      <th>게시형태</th>\n",
       "      <th>제목</th>\n",
       "      <th>내용</th>\n",
       "      <th>이미지</th>\n",
       "      <th>첨부파일</th>\n",
       "    </tr>\n",
       "  </thead>\n",
       "  <tbody>\n",
       "  </tbody>\n",
       "</table>\n",
       "</div>"
      ],
      "text/plain": [
       "Empty DataFrame\n",
       "Columns: [작성자, 승인자, 게시기한, 승인일자, 재공지일자, 게시대상, 분류, 게시형태, 제목, 내용, 이미지, 첨부파일]\n",
       "Index: []"
      ]
     },
     "execution_count": 51,
     "metadata": {},
     "output_type": "execute_result"
    }
   ],
   "source": [
    "scholarship_data"
   ]
  },
  {
   "cell_type": "code",
   "execution_count": 75,
   "metadata": {
    "scrolled": true
   },
   "outputs": [
    {
     "name": "stderr",
     "output_type": "stream",
     "text": [
      "<ipython-input-75-1c8233182758>:1: DeprecationWarning: The default dtype for empty Series will be 'object' instead of 'float64' in a future version. Specify a dtype explicitly to silence this warning.\n",
      "  scholarship_data.append(pd.Series(name=1))\n"
     ]
    },
    {
     "data": {
      "text/html": [
       "<div>\n",
       "<style scoped>\n",
       "    .dataframe tbody tr th:only-of-type {\n",
       "        vertical-align: middle;\n",
       "    }\n",
       "\n",
       "    .dataframe tbody tr th {\n",
       "        vertical-align: top;\n",
       "    }\n",
       "\n",
       "    .dataframe thead th {\n",
       "        text-align: right;\n",
       "    }\n",
       "</style>\n",
       "<table border=\"1\" class=\"dataframe\">\n",
       "  <thead>\n",
       "    <tr style=\"text-align: right;\">\n",
       "      <th></th>\n",
       "      <th>작성자</th>\n",
       "      <th>승인자</th>\n",
       "      <th>게시기한</th>\n",
       "      <th>승인일자</th>\n",
       "      <th>재공지일자</th>\n",
       "      <th>게시대상</th>\n",
       "      <th>분류</th>\n",
       "      <th>게시형태</th>\n",
       "      <th>제목</th>\n",
       "      <th>내용</th>\n",
       "      <th>이미지</th>\n",
       "      <th>첨부파일</th>\n",
       "    </tr>\n",
       "  </thead>\n",
       "  <tbody>\n",
       "    <tr>\n",
       "      <th>1</th>\n",
       "      <td>NaN</td>\n",
       "      <td>NaN</td>\n",
       "      <td>NaN</td>\n",
       "      <td>NaN</td>\n",
       "      <td>NaN</td>\n",
       "      <td>NaN</td>\n",
       "      <td>NaN</td>\n",
       "      <td>NaN</td>\n",
       "      <td>NaN</td>\n",
       "      <td>NaN</td>\n",
       "      <td>NaN</td>\n",
       "      <td>NaN</td>\n",
       "    </tr>\n",
       "  </tbody>\n",
       "</table>\n",
       "</div>"
      ],
      "text/plain": [
       "   작성자  승인자 게시기한 승인일자 재공지일자 게시대상   분류 게시형태   제목   내용  이미지 첨부파일\n",
       "1  NaN  NaN  NaN  NaN   NaN  NaN  NaN  NaN  NaN  NaN  NaN  NaN"
      ]
     },
     "execution_count": 75,
     "metadata": {},
     "output_type": "execute_result"
    }
   ],
   "source": [
    "scholarship_data.append(pd.Series(name=1))"
   ]
  },
  {
   "cell_type": "code",
   "execution_count": null,
   "metadata": {},
   "outputs": [],
   "source": [
    "def crawl_table(data):\n",
    "    "
   ]
  },
  {
   "cell_type": "code",
   "execution_count": 72,
   "metadata": {},
   "outputs": [
    {
     "name": "stdout",
     "output_type": "stream",
     "text": [
      "황세원   (학생지원부)\n",
      "황세원   (학생지원부)\n",
      "2021-12-31\n",
      "2017-03-08 (수) 오후 02:55\n",
      "2019-03-19\n",
      "서울(학부, 직원),의료원(학부, 직원)\n",
      "장학금 공지사항\n",
      "일반\n",
      "[알림] 장학금지급 위한 본인계좌번호 등록방법 안내\n"
     ]
    }
   ],
   "source": [
    "body_num=((1,2),(1,4),(2,2),(2,4),(3,0),(4,2),(4,4),(4,6),(5,0))\n",
    "for _ in body_num:\n",
    "    if _[1]!=0:\n",
    "        body_path=('body > div > div.page > form > table > tbody > tr:nth-child({0}) > td:nth-child({1})'.format(str(_[0]), str(_[1])))\n",
    "    else:\n",
    "        body_path=('body > div > div.page > form > table > tbody > tr:nth-child({}) > td'.format(str(_[0])))\n",
    "    #print(body_path)\n",
    "    print(driver.find_element_by_css_selector(body_path).text)\n",
    "    "
   ]
  },
  {
   "cell_type": "code",
   "execution_count": null,
   "metadata": {},
   "outputs": [],
   "source": []
  },
  {
   "cell_type": "raw",
   "metadata": {},
   "source": [
    "공지 리스트가 iframe으로 묶여있음 iframe 위치 찾은 뒤 \n",
    "driver를 iframe로 switch시켜준 후 재 검색"
   ]
  },
  {
   "cell_type": "raw",
   "metadata": {},
   "source": [
    "try:\n",
    "    for i in range(1,tab_num+1):\n",
    "        driver.switch_to.frame(\"_component\")\n",
    "        path=('//*[@id=\"Search\"]/table/tbody/tr[%d]/td[3]/b/a' %i)\n",
    "        try:\n",
    "            element=driver.find_element_by_xpath(path)\n",
    "        except:\n",
    "            path=('//*[@id=\"Search\"]/table/tbody/tr[%d]/td[3]/a' %i)\n",
    "            element=driver.find_element_by_xpath(path)\n",
    "\n",
    "        element.click()\n",
    "        print(path)\n",
    "        time.sleep(1)\n",
    "        driver.back()\n",
    "except:\n",
    "    driver.back()"
   ]
  },
  {
   "cell_type": "raw",
   "metadata": {},
   "source": [
    "driver.switch_to.frame(\"_component\")"
   ]
  },
  {
   "cell_type": "raw",
   "metadata": {},
   "source": [
    "tab_num=len(driver.find_elements_by_xpath('//*[@id=\"Search\"]/table/tbody/tr'))\n",
    "#이페이지에서 총 몇번 클릭해야하는지 횟수 반환함"
   ]
  },
  {
   "cell_type": "raw",
   "metadata": {},
   "source": [
    "tab_num"
   ]
  },
  {
   "cell_type": "raw",
   "metadata": {},
   "source": [
    "driver.back()\n",
    "time.sleep(2)"
   ]
  },
  {
   "cell_type": "raw",
   "metadata": {},
   "source": [
    "driver.switch_to.frame(\"_component\")\n",
    "driver.find_element_by_xpath('//*[@id=\"Search\"]/div[2]/div/a[5]').click()"
   ]
  },
  {
   "cell_type": "raw",
   "metadata": {},
   "source": [
    "driver.switch_to.frame(\"_component\")"
   ]
  },
  {
   "cell_type": "raw",
   "metadata": {},
   "source": [
    "driver.back()"
   ]
  },
  {
   "cell_type": "raw",
   "metadata": {},
   "source": [
    "page_num=1\n",
    "while True:\n",
    "    if page_num==1:\n",
    "        driver.switch_to.frame(\"_component\")\n",
    "    tab_num=len(driver.find_elements_by_xpath('//*[@id=\"Search\"]/table/tbody/tr'))#테이블 아이탬 몇개있는지 확인\n",
    "    print(f\"페이지 번호 : {page_num}, 탭 수: {tab_num}\")\n",
    "    for i in range(1,tab_num+1):\n",
    "        if i!=1:#볼드체 제목 클릭\n",
    "            driver.switch_to.frame(\"_component\")\n",
    "        path=('//*[@id=\"Search\"]/table/tbody/tr[%d]/td[3]/b/a' %i)\n",
    "        try: #일반 제목 클릭\n",
    "            element=driver.find_element_by_xpath(path)\n",
    "        except:\n",
    "            path=('//*[@id=\"Search\"]/table/tbody/tr[%d]/td[3]/a' %i)\n",
    "            element=driver.find_element_by_xpath(path)\n",
    "\n",
    "        element.click()#여기가 클릭하는 부분 (이밑으로 크롤러 넣으면 됨)\n",
    "        print(path)\n",
    "        time.sleep(1)\n",
    "        driver.back()\n",
    "    driver.switch_to.frame(\"_component\")\n",
    "    btn_next=driver.find_element_by_xpath('//*[@id=\"Search\"]/div[2]/div/a[5]')#다음페이지버튼\n",
    "    if btn_next.get_attribute('href')[-4:]=='prev':#맨마지막 페이지 도달 하면 break\n",
    "        print(\"끝도달\")\n",
    "        break\n",
    "    btn_next.click()\n",
    "    page_num+=1\n",
    "    time.sleep(1)"
   ]
  }
 ],
 "metadata": {
  "kernelspec": {
   "display_name": "Python 3",
   "language": "python",
   "name": "python3"
  },
  "language_info": {
   "codemirror_mode": {
    "name": "ipython",
    "version": 3
   },
   "file_extension": ".py",
   "mimetype": "text/x-python",
   "name": "python",
   "nbconvert_exporter": "python",
   "pygments_lexer": "ipython3",
   "version": "3.8.5"
  }
 },
 "nbformat": 4,
 "nbformat_minor": 4
}
